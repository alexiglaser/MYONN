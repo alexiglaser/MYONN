{
 "cells": [
  {
   "cell_type": "code",
   "execution_count": 1,
   "metadata": {
    "collapsed": true
   },
   "outputs": [],
   "source": [
    "# notebook using Julia replicating the Python notebook for Make Your Own Neural Network\n",
    "# working with the MNIST data set\n",
    "#\n",
    "# (c) Alex Glaser, 2017\n",
    "# license is GPLv2"
   ]
  },
  {
   "cell_type": "code",
   "execution_count": 3,
   "metadata": {
    "collapsed": false
   },
   "outputs": [],
   "source": [
    "# open the CSV file and read its contents into a list\n",
    "# Julia also has readcsv and readdlm (dlm stands for delimited) functions\n",
    "data_file = open(\"mnist_dataset/mnist_train_100.csv\", \"r\")\n",
    "data_list = readlines(data_file)\n",
    "close(data_file)\n",
    "# You can also load data in directly using\n",
    "# data_list = readlines(\"mnist_dataset/mnist_train_100.csv\")"
   ]
  },
  {
   "cell_type": "code",
   "execution_count": 4,
   "metadata": {
    "collapsed": false
   },
   "outputs": [
    {
     "data": {
      "text/plain": [
       "100"
      ]
     },
     "execution_count": 4,
     "metadata": {},
     "output_type": "execute_result"
    }
   ],
   "source": [
    "# check the number of data records (examples)\n",
    "length(data_list)"
   ]
  },
  {
   "cell_type": "code",
   "execution_count": 5,
   "metadata": {
    "collapsed": false
   },
   "outputs": [
    {
     "data": {
      "text/plain": [
       "\"0,0,0,0,0,0,0,0,0,0,0,0,0,0,0,0,0,0,0,0,0,0,0,0,0,0,0,0,0,0,0,0,0,0,0,0,0,0,0,0,0,0,0,0,0,0,0,0,0,0,0,0,0,0,0,0,0,0,0,0,0,0,0,0,0,0,0,0,0,0,0,0,0,0,0,0,0,0,0,0,0,0,0,0,0,0,0,0,0,0,0,0,0,0,0,0,0,0,0,0,0,0,0,0,0,0,0,0,0,0,0,0,0,0,0,0,0,0,0,0,0,0,0,0,0,0,0,0,51,159,253,159,50,0,0,0,0,0,0,0,0,0,0,0,0,0,0,0,0,0,0,0,0,0,0,48,238,252,252,252,237,0,0,0,0,0,0,0,0,0,0,0,0,0,0,0,0,0,0,0,0,0,54,227,253,252,239,233,252,57,6,0,0,0,0,0,0,0,0,0,0,0,0,0,0,0,0,0,10,60,224,252,253,252,202,84,252,253,122,0,0,0,0,0,0,0,0,0,0,0,0,0,0,0,0,0,163,252,252,252,253,252,252,96,189,253,167,0,0,0,0,0,0,0,0,0,0,0,0,0,0,0,0,51,238,253,253,190,114,253,228,47,79,255,168,0,0,0,0,0,0,0,0,0,0,0,0,0,0,0,48,238,252,252,179,12,75,121,21,0,0,253,243,50,0,0,0,0,0,0,0,0,0,0,0,0,0,38,165,253,233,208,84,0,0,0,0,0,0,253,252,165,0,0,0,0,0,0,0,0,0,0,0,0,7,178,252,240,71,19,28,0,0,0,0,0,0,253,252,195,0,0,0,0,0,0,0,0,0,0,0,0,57,252,252,63,0,0,0,0,0,0,0,0,0,253,252,195,0,0,0,0,0,0,0,0,0,0,0,0,198,253,190,0,0,0,0,0,0,0,0,0,0,255,253,196,0,0,0,0,0,0,0,0,0,0,0,76,246,252,112,0,0,0,0,0,0,0,0,0,0,253,252,148,0,0,0,0,0,0,0,0,0,0,0,85,252,230,25,0,0,0,0,0,0,0,0,7,135,253,186,12,0,0,0,0,0,0,0,0,0,0,0,85,252,223,0,0,0,0,0,0,0,0,7,131,252,225,71,0,0,0,0,0,0,0,0,0,0,0,0,85,252,145,0,0,0,0,0,0,0,48,165,252,173,0,0,0,0,0,0,0,0,0,0,0,0,0,0,86,253,225,0,0,0,0,0,0,114,238,253,162,0,0,0,0,0,0,0,0,0,0,0,0,0,0,0,85,252,249,146,48,29,85,178,225,253,223,167,56,0,0,0,0,0,0,0,0,0,0,0,0,0,0,0,85,252,252,252,229,215,252,252,252,196,130,0,0,0,0,0,0,0,0,0,0,0,0,0,0,0,0,0,28,199,252,252,253,252,252,233,145,0,0,0,0,0,0,0,0,0,0,0,0,0,0,0,0,0,0,0,0,25,128,252,253,252,141,37,0,0,0,0,0,0,0,0,0,0,0,0,0,0,0,0,0,0,0,0,0,0,0,0,0,0,0,0,0,0,0,0,0,0,0,0,0,0,0,0,0,0,0,0,0,0,0,0,0,0,0,0,0,0,0,0,0,0,0,0,0,0,0,0,0,0,0,0,0,0,0,0,0,0,0,0,0,0,0,0,0,0,0,0,0,0,0,0,0,0,0,0,0,0,0,0,0,0,0,0,0,0,0,0,0,0,0,0,0,0,0,0,0,0,0,0,0,0,0,0,0,0,0,0,0,0\\n\""
      ]
     },
     "execution_count": 5,
     "metadata": {},
     "output_type": "execute_result"
    }
   ],
   "source": [
    "# show the second dataset record, note that Julia (like R) starts counting from 1 not 0.\n",
    "# the first number is the label, the rest are pixel colour values (greyscale 0-255)\n",
    "data_list[2]"
   ]
  },
  {
   "cell_type": "code",
   "execution_count": 6,
   "metadata": {
    "collapsed": false
   },
   "outputs": [
    {
     "data": {
      "image/png": "[encoded data removed]",
      "text/plain": [
       "PyPlot.Figure(PyObject <matplotlib.figure.Figure object at 0x3200af4e0>)"
      ]
     },
     "metadata": {},
     "output_type": "display_data"
    },
    {
     "data": {
      "text/plain": [
       "PyObject <matplotlib.image.AxesImage object at 0x31fd55cf8>"
      ]
     },
     "execution_count": 6,
     "metadata": {},
     "output_type": "execute_result"
    }
   ],
   "source": [
    "# take the data from a record, rearrange it into a 28*28 array and plot it as an image\n",
    "interim = split(data_list[2], \",\")\n",
    "# to convert the variable 'interim' into integers create an initial array (or length 785) and use a for loop to convert\n",
    "all_values = Array(Int64, 785)\n",
    "for i in 1:785\n",
    "    all_values[i] = parse(Float64, interim[i])\n",
    "end\n",
    "# from the following page\n",
    "# http://stackoverflow.com/questions/33440857/julia-convert-numeric-string-to-float-or-int\n",
    "# it was possible to convert a whole vector use the map function\n",
    "# all_values = map(x->parse(Int64,x),interim)\n",
    "# You can use Julia's reshape function to put the values into a 28 x 28 matrix, note that the 'slicing' follows \n",
    "# on from Python and R, except we now have a nice keyword 'end' to represent the last index of the array\n",
    "image_array = reshape(all_values[2:end], 28, 28) #numpy.asfarray(all_values[1:]).reshape((28,28))\n",
    "# We also have to transpose the image_array as reshape fills 'by column'.\n",
    "image_array = transpose(image_array)\n",
    "# For the plots we're going to use the PyPlot package as it call Python’s matplotlib directly from Julia.\n",
    "# You'll need to run the following line to install it, which can be run directly from a Jupyter cell\n",
    "# Pkg.add(\"PyPlot\")\n",
    "# Also, Julia has the keyword 'using' instead of import\n",
    "using PyPlot\n",
    "imshow(image_array, cmap=\"Greys\", interpolation=\"None\")"
   ]
  },
  {
   "cell_type": "code",
   "execution_count": 65,
   "metadata": {
    "collapsed": false
   },
   "outputs": [
    {
     "data": {
      "text/plain": [
       "28×28 Array{Int64,2}:\n",
       " 0  0  0  0  0  0   0    0    0    0  …    0    0    0    0  0  0  0  0  0\n",
       " 0  0  0  0  0  0   0    0    0    0       0    0    0    0  0  0  0  0  0\n",
       " 0  0  0  0  0  0   0    0    0    0       0    0    0    0  0  0  0  0  0\n",
       " 0  0  0  0  0  0   0    0    0    0       0    0    0    0  0  0  0  0  0\n",
       " 0  0  0  0  0  0   0    0    0    0      50    0    0    0  0  0  0  0  0\n",
       " 0  0  0  0  0  0   0    0    0    0  …  237    0    0    0  0  0  0  0  0\n",
       " 0  0  0  0  0  0   0    0    0    0     252   57    6    0  0  0  0  0  0\n",
       " 0  0  0  0  0  0   0    0    0    0     252  253  122    0  0  0  0  0  0\n",
       " 0  0  0  0  0  0   0    0    0    0     189  253  167    0  0  0  0  0  0\n",
       " 0  0  0  0  0  0   0    0    0    0      79  255  168    0  0  0  0  0  0\n",
       " 0  0  0  0  0  0   0    0    0   48  …    0  253  243   50  0  0  0  0  0\n",
       " 0  0  0  0  0  0   0    0   38  165       0  253  252  165  0  0  0  0  0\n",
       " 0  0  0  0  0  0   0    7  178  252       0  253  252  195  0  0  0  0  0\n",
       " ⋮              ⋮                     ⋱         ⋮                  ⋮      \n",
       " 0  0  0  0  0  0  85  252  230   25     135  253  186   12  0  0  0  0  0\n",
       " 0  0  0  0  0  0  85  252  223    0     252  225   71    0  0  0  0  0  0\n",
       " 0  0  0  0  0  0  85  252  145    0     173    0    0    0  0  0  0  0  0\n",
       " 0  0  0  0  0  0  86  253  225    0       0    0    0    0  0  0  0  0  0\n",
       " 0  0  0  0  0  0  85  252  249  146  …    0    0    0    0  0  0  0  0  0\n",
       " 0  0  0  0  0  0  85  252  252  252       0    0    0    0  0  0  0  0  0\n",
       " 0  0  0  0  0  0  28  199  252  252       0    0    0    0  0  0  0  0  0\n",
       " 0  0  0  0  0  0   0   25  128  252       0    0    0    0  0  0  0  0  0\n",
       " 0  0  0  0  0  0   0    0    0    0       0    0    0    0  0  0  0  0  0\n",
       " 0  0  0  0  0  0   0    0    0    0  …    0    0    0    0  0  0  0  0  0\n",
       " 0  0  0  0  0  0   0    0    0    0       0    0    0    0  0  0  0  0  0\n",
       " 0  0  0  0  0  0   0    0    0    0       0    0    0    0  0  0  0  0  0"
      ]
     },
     "execution_count": 65,
     "metadata": {},
     "output_type": "execute_result"
    }
   ],
   "source": [
    "image_array"
   ]
  },
  {
   "cell_type": "code",
   "execution_count": 67,
   "metadata": {
    "collapsed": false
   },
   "outputs": [
    {
     "name": "stdout",
     "output_type": "stream",
     "text": [
      "[0.01,0.01,0.01,0.01,0.01,0.01,0.01,0.01,0.01,0.01,0.01,0.01,0.01,0.01,0.01,0.01,0.01,0.01,0.01,0.01,0.01,0.01,0.01,0.01,0.01,0.01,0.01,0.01,0.01,0.01,0.01,0.01,0.01,0.01,0.01,0.01,0.01,0.01,0.01,0.01,0.01,0.01,0.01,0.01,0.01,0.01,0.01,0.01,0.01,0.01,0.01,0.01,0.01,0.01,0.01,0.01,0.01,0.01,0.01,0.01,0.01,0.01,0.01,0.01,0.01,0.01,0.01,0.01,0.01,0.01,0.01,0.01,0.01,0.01,0.01,0.01,0.01,0.01,0.01,0.01,0.01,0.01,0.01,0.01,0.01,0.01,0.01,0.01,0.01,0.01,0.01,0.01,0.01,0.01,0.01,0.01,0.01,0.01,0.01,0.01,0.01,0.01,0.01,0.01,0.01,0.01,0.01,0.01,0.01,0.01,0.01,0.01,0.01,0.01,0.01,0.01,0.01,0.01,0.01,0.01,0.01,0.01,0.01,0.01,0.01,0.01,0.01,0.208,0.627294,0.992235,0.627294,0.204118,0.01,0.01,0.01,0.01,0.01,0.01,0.01,0.01,0.01,0.01,0.01,0.01,0.01,0.01,0.01,0.01,0.01,0.01,0.01,0.01,0.01,0.01,0.196353,0.934,0.988353,0.988353,0.988353,0.930118,0.01,0.01,0.01,0.01,0.01,0.01,0.01,0.01,0.01,0.01,0.01,0.01,0.01,0.01,0.01,0.01,0.01,0.01,0.01,0.01,0.01,0.219647,0.891294,0.992235,0.988353,0.937882,0.914588,0.988353,0.231294,0.0332941,0.01,0.01,0.01,0.01,0.01,0.01,0.01,0.01,0.01,0.01,0.01,0.01,0.01,0.01,0.01,0.01,0.01,0.0488235,0.242941,0.879647,0.988353,0.992235,0.988353,0.794235,0.336118,0.988353,0.992235,0.483647,0.01,0.01,0.01,0.01,0.01,0.01,0.01,0.01,0.01,0.01,0.01,0.01,0.01,0.01,0.01,0.01,0.01,0.642824,0.988353,0.988353,0.988353,0.992235,0.988353,0.988353,0.382706,0.743765,0.992235,0.658353,0.01,0.01,0.01,0.01,0.01,0.01,0.01,0.01,0.01,0.01,0.01,0.01,0.01,0.01,0.01,0.01,0.208,0.934,0.992235,0.992235,0.747647,0.452588,0.992235,0.895176,0.192471,0.316706,1.0,0.662235,0.01,0.01,0.01,0.01,0.01,0.01,0.01,0.01,0.01,0.01,0.01,0.01,0.01,0.01,0.01,0.196353,0.934,0.988353,0.988353,0.704941,0.0565882,0.301176,0.479765,0.0915294,0.01,0.01,0.992235,0.953412,0.204118,0.01,0.01,0.01,0.01,0.01,0.01,0.01,0.01,0.01,0.01,0.01,0.01,0.01,0.157529,0.650588,0.992235,0.914588,0.817529,0.336118,0.01,0.01,0.01,0.01,0.01,0.01,0.992235,0.988353,0.650588,0.01,0.01,0.01,0.01,0.01,0.01,0.01,0.01,0.01,0.01,0.01,0.01,0.0371765,0.701059,0.988353,0.941765,0.285647,0.0837647,0.118706,0.01,0.01,0.01,0.01,0.01,0.01,0.992235,0.988353,0.767059,0.01,0.01,0.01,0.01,0.01,0.01,0.01,0.01,0.01,0.01,0.01,0.01,0.231294,0.988353,0.988353,0.254588,0.01,0.01,0.01,0.01,0.01,0.01,0.01,0.01,0.01,0.992235,0.988353,0.767059,0.01,0.01,0.01,0.01,0.01,0.01,0.01,0.01,0.01,0.01,0.01,0.01,0.778706,0.992235,0.747647,0.01,0.01,0.01,0.01,0.01,0.01,0.01,0.01,0.01,0.01,1.0,0.992235,0.770941,0.01,0.01,0.01,0.01,0.01,0.01,0.01,0.01,0.01,0.01,0.01,0.305059,0.965059,0.988353,0.444824,0.01,0.01,0.01,0.01,0.01,0.01,0.01,0.01,0.01,0.01,0.992235,0.988353,0.584588,0.01,0.01,0.01,0.01,0.01,0.01,0.01,0.01,0.01,0.01,0.01,0.34,0.988353,0.902941,0.107059,0.01,0.01,0.01,0.01,0.01,0.01,0.01,0.01,0.0371765,0.534118,0.992235,0.732118,0.0565882,0.01,0.01,0.01,0.01,0.01,0.01,0.01,0.01,0.01,0.01,0.01,0.34,0.988353,0.875765,0.01,0.01,0.01,0.01,0.01,0.01,0.01,0.01,0.0371765,0.518588,0.988353,0.883529,0.285647,0.01,0.01,0.01,0.01,0.01,0.01,0.01,0.01,0.01,0.01,0.01,0.01,0.34,0.988353,0.572941,0.01,0.01,0.01,0.01,0.01,0.01,0.01,0.196353,0.650588,0.988353,0.681647,0.01,0.01,0.01,0.01,0.01,0.01,0.01,0.01,0.01,0.01,0.01,0.01,0.01,0.01,0.343882,0.992235,0.883529,0.01,0.01,0.01,0.01,0.01,0.01,0.452588,0.934,0.992235,0.638941,0.01,0.01,0.01,0.01,0.01,0.01,0.01,0.01,0.01,0.01,0.01,0.01,0.01,0.01,0.01,0.34,0.988353,0.976706,0.576824,0.196353,0.122588,0.34,0.701059,0.883529,0.992235,0.875765,0.658353,0.227412,0.01,0.01,0.01,0.01,0.01,0.01,0.01,0.01,0.01,0.01,0.01,0.01,0.01,0.01,0.01,0.34,0.988353,0.988353,0.988353,0.899059,0.844706,0.988353,0.988353,0.988353,0.770941,0.514706,0.01,0.01,0.01,0.01,0.01,0.01,0.01,0.01,0.01,0.01,0.01,0.01,0.01,0.01,0.01,0.01,0.01,0.118706,0.782588,0.988353,0.988353,0.992235,0.988353,0.988353,0.914588,0.572941,0.01,0.01,0.01,0.01,0.01,0.01,0.01,0.01,0.01,0.01,0.01,0.01,0.01,0.01,0.01,0.01,0.01,0.01,0.01,0.01,0.107059,0.506941,0.988353,0.992235,0.988353,0.557412,0.153647,0.01,0.01,0.01,0.01,0.01,0.01,0.01,0.01,0.01,0.01,0.01,0.01,0.01,0.01,0.01,0.01,0.01,0.01,0.01,0.01,0.01,0.01,0.01,0.01,0.01,0.01,0.01,0.01,0.01,0.01,0.01,0.01,0.01,0.01,0.01,0.01,0.01,0.01,0.01,0.01,0.01,0.01,0.01,0.01,0.01,0.01,0.01,0.01,0.01,0.01,0.01,0.01,0.01,0.01,0.01,0.01,0.01,0.01,0.01,0.01,0.01,0.01,0.01,0.01,0.01,0.01,0.01,0.01,0.01,0.01,0.01,0.01,0.01,0.01,0.01,0.01,0.01,0.01,0.01,0.01,0.01,0.01,0.01,0.01,0.01,0.01,0.01,0.01,0.01,0.01,0.01,0.01,0.01,0.01,0.01,0.01,0.01,0.01,0.01,0.01,0.01,0.01,0.01,0.01,0.01,0.01,0.01,0.01,0.01,0.01,0.01,0.01,0.01,0.01,0.01,0.01,0.01,0.01,0.01,0.01,0.01,0.01,0.01,0.01,0.01,0.01]"
     ]
    }
   ],
   "source": [
    "# scale input to range 0.01 to 1.00\n",
    "scaled_input = (all_values[2:end] / 255.0 * 0.99) + 0.01\n",
    "print(scaled_input)"
   ]
  },
  {
   "cell_type": "code",
   "execution_count": null,
   "metadata": {
    "collapsed": true
   },
   "outputs": [],
   "source": []
  }
 ],
 "metadata": {
  "anaconda-cloud": {},
  "kernelspec": {
   "display_name": "Julia 0.5.1",
   "language": "julia",
   "name": "julia-0.5"
  },
  "language_info": {
   "file_extension": ".jl",
   "mimetype": "application/julia",
   "name": "julia",
   "version": "0.5.1"
  }
 },
 "nbformat": 4,
 "nbformat_minor": 2
}
